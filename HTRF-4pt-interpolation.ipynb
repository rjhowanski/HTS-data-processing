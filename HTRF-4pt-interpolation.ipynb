{
 "cells": [
  {
   "cell_type": "code",
   "execution_count": 49,
   "metadata": {},
   "outputs": [],
   "source": [
    "# Note: I have made modifications to the scripts on this repository to remove sensitive information and reduce annotations, ensuring they can be shared without risk of confidentiality issues.purpose of script is to calculated concentration of anlayte based on HTRF readout\n",
    "\n",
    "# input is 384-well plates with 4pt dilution to account of dynamic range of assay\n",
    "\n",
    "# point selected based on distance from EC50 of standard \n",
    "# and not identified as being in hook\n",
    "\n",
    "\n",
    "%matplotlib inline\n",
    "import os\n",
    "import glob\n",
    "import pandas as pd\n",
    "import numpy as np\n",
    "import matplotlib.pyplot as plt\n",
    "from scipy.optimize import curve_fit\n",
    "\n",
    "#inputs\n",
    "os.chdir(### input path (folder) ###)\n",
    "experiment_id = '9015'\n",
    "extension = 'csv'\n",
    "all_filenames = [i for i in glob.glob(fusion_id+'*.{}'.format(extension))]\n",
    "\n",
    "#combine all files in the list\n",
    "combined_csv = pd.concat([pd.read_csv(f,skiprows=1, header=0, nrows=384) for f in all_filenames])"
   ]
  },
  {
   "cell_type": "code",
   "execution_count": null,
   "metadata": {},
   "outputs": [],
   "source": [
    "# default tiration of standard from liquid handler method, values as ng/mL\n",
    "titr = {'A12': 1500, 'B12':750,'C12':250,'D12': 85, 'E12' : 30, 'F12' : 10, 'G12': 3, 'H12': 1}\n",
    "\n",
    "# dilution factors of samples per quad in 384-well, diluted to account for dynamic range of assay\n",
    "DFs= {'q1': 1, 'q2':8,'q3':64,'q4':512}\n",
    "\n",
    "# 384-to-96 coordinate conversion\n",
    "def convert_to_96_well_format(well_coord_384):\n",
    "    row_384 = ord(well_coord_384[0]) - ord('A') + 1\n",
    "    col_384 = int(well_coord_384[1:])\n",
    "    \n",
    "    # calculate corresponding column in 96-well format\n",
    "    if col_384 % 2 == 0:\n",
    "        col_384 = col_384 - 1\n",
    "    else:\n",
    "        col_384 = col_384\n",
    "    col_96 = (col_384 - 1) % 2 * 12 + (col_384 + 1) // 2\n",
    "    \n",
    "    # calculate corresponding row in 96-well format\n",
    "    if row_384 % 2 == 0:\n",
    "        row_96 = row_384 / 2\n",
    "    else:\n",
    "        row_96 = row_384 + 1 / 2\n",
    "    \n",
    "    row_96_letter = chr(int(row_96) + ord('A') - 1)    \n",
    "\n",
    "    # combine for the final 96-well coordinate\n",
    "    well_96 = row_96_letter + str(col_96).zfill(2)\n",
    "    \n",
    "    return well_96\n",
    "\n",
    "#classification of quads based on 384 well\n",
    "def get_quad(well_coord_384):\n",
    "    row_384 = ord(well_coord_384[0]) - ord('A') + 1\n",
    "    col_384 = int(well_coord_384[1:])\n",
    "    \n",
    "    # determine the quad based on the row and column\n",
    "    if row_384 % 2 == 0:  # even row\n",
    "        if col_384 % 2 == 0:  # even column\n",
    "            quad = \"q4\"\n",
    "        else:\n",
    "            quad = \"q3\"\n",
    "    else:  # odd row\n",
    "        if col_384 % 2 == 0:  # Even column\n",
    "            quad = \"q2\"\n",
    "        else:\n",
    "            quad = \"q1\"\n",
    "            \n",
    "    return quad\n",
    "\n",
    "#curve generation\n",
    "def sigmoid(x, top ,ec50, hillslope, bottom):\n",
    "    y = top / (1 + np.exp(-hillslope*(x-ec50)))+ bottom\n",
    "    return y\n",
    "\n",
    "def sigmoid_y(y, top ,ec50, hillslope, bottom):\n",
    "    x = ec50 + (np.log((top /  (y - bottom))-1))/(np.negative(hillslope))\n",
    "    return x"
   ]
  },
  {
   "cell_type": "code",
   "execution_count": null,
   "metadata": {},
   "outputs": [],
   "source": [
    "combined = combined_csv.iloc[:,:5]\n",
    "combined['WellRC_96w'] = combined['Well_Coord_384w'].map(convert_to_96_well_format)\n",
    "combined['Quad'] = combined['Well_Coord_384w'].map(get_quad)\n",
    "combined['DF'] = combined['Quad'].map(DFs)\n",
    "combined_csv['Plate']= combined_csv.Barcode.str.split(\"-\").str[1]"
   ]
  },
  {
   "cell_type": "code",
   "execution_count": null,
   "metadata": {},
   "outputs": [],
   "source": [
    "#create df of controls, test samples; use controls df to seperate blanks and positive standards\n",
    "controls = combined[combined['WellRC_96w'].str[1:3] == '12']\n",
    "samples = combined[combined['WellRC_96w'].str[1:3] != '12']\n",
    "blanks = controls[controls['Quad'] == 'q4']\n",
    "std = controls[controls['Quad'] != 'q4']\n",
    "\n",
    "#calculate average and standard deviation of blanks (to be used to calculate limit of detection)\n",
    "lod_mean = blanks['HTRFratio'].mean()\n",
    "lod_sd = blanks['HTRFratio'].std()"
   ]
  },
  {
   "cell_type": "code",
   "execution_count": 52,
   "metadata": {},
   "outputs": [],
   "source": [
    "std['Conc_ng/mL'] = std.iloc[:,5]\n",
    "std = std.replace({\"Conc_ng/mL\" : titr})\n",
    "std['Conc_ng/mL'] = np.log10(std['Conc_ng/mL'])"
   ]
  },
  {
   "cell_type": "code",
   "execution_count": 55,
   "metadata": {},
   "outputs": [],
   "source": [
    "# optional adjustment to drop first point if hook observed\n",
    "# std = std[std['WellRC_96w'] != 'A12']"
   ]
  },
  {
   "cell_type": "code",
   "execution_count": 56,
   "metadata": {},
   "outputs": [],
   "source": [
    "p0 = [max(std['HTRFratio']), np.median(st2['Conc_ng/mL']),1,min(std['HTRFratio'])]\n",
    "popt, pcov = curve_fit(sigmoid, std['Conc_ng/mL'], std2['HTRFratio'],p0, method='dogbox')"
   ]
  },
  {
   "cell_type": "code",
   "execution_count": 57,
   "metadata": {
    "scrolled": true
   },
   "outputs": [
    {
     "data": {
      "image/png": "[encoded data removed]",
      "text/plain": [
       "<Figure size 432x288 with 1 Axes>"
      ]
     },
     "metadata": {
      "needs_background": "light"
     },
     "output_type": "display_data"
    }
   ],
   "source": [
    "x = np.linspace(0, 4, 10000)\n",
    "y = sigmoid(x, *popt)\n",
    "\n",
    "plt.plot(std['Conc_ng/mL'], std['HTRFratio'], 'o', label='data')\n",
    "plt.plot(x,y, label='fit')\n",
    "plt.legend(loc='best')\n",
    "plt.savefig('###output path###'+experiment_id+\"_standard_curve.png\")"
   ]
  },
  {
   "cell_type": "code",
   "execution_count": 59,
   "metadata": {},
   "outputs": [],
   "source": [
    "ec100= sigmoid(popt[2],*popt)\n",
    "ec50_signal = ec100/2"
   ]
  },
  {
   "cell_type": "code",
   "execution_count": 60,
   "metadata": {},
   "outputs": [
    {
     "name": "stderr",
     "output_type": "stream",
     "text": [
      "<ipython-input-58-580639443a42>:2: RuntimeWarning: invalid value encountered in log\n",
      "  x = ec50 + (np.log((top /  (y - bottom))-1))/(np.negative(hillslope))\n"
     ]
    }
   ],
   "source": [
    "lod_htrf = lod_mean + (10*lod_sd)\n",
    "lod_conc = 10**(sigmoid_y(lod_htrf, *popt))"
   ]
  },
  {
   "cell_type": "code",
   "execution_count": 64,
   "metadata": {},
   "outputs": [
    {
     "name": "stderr",
     "output_type": "stream",
     "text": [
      "<ipython-input-58-580639443a42>:2: RuntimeWarning: invalid value encountered in log\n",
      "  x = ec50 + (np.log((top /  (y - bottom))-1))/(np.negative(hillslope))\n"
     ]
    }
   ],
   "source": [
    "unknowns = samples['HTRFratio']\n",
    "li=[]\n",
    "for t in unknowns: \n",
    "    if t>popt[0]:\n",
    "        x = 'Max'                      ##criteria to list as max (will be utilized later in script)\n",
    "    elif t< (lod_mean + (10*lod_sd)):  ##criteria to list as min if below LoD\n",
    "        x = 'Min'\n",
    "    else:\n",
    "        x = sigmoid_y(t,*popt)\n",
    "        x = 10** x\n",
    "    li.append(x)\n",
    "samples['Interpolated'] = li\n",
    "samples['Interpolated'] = samples['Interpolated'].fillna('Min')\n",
    "\n",
    "#update concentration by accomodating for dilution factor\n",
    "samples['Calc_conc_ng/mL'] = samples['Interpolated'].where((samples['Interpolated'] == 'Max') | (samples['Interpolated'] == 'Min') , (samples['DF']*(samples['Interpolated'])))"
   ]
  },
  {
   "cell_type": "code",
   "execution_count": null,
   "metadata": {},
   "outputs": [],
   "source": [
    "#assign sample IDs based on information\n",
    "MCPs = {'q1': 1, 'q2': 7 ,'q3':15,'q4':23}\n",
    "samples2 = samples.replace({\"Quad\":MCPs})\n",
    "samples3 =  samples2[['WellRC_96w','Quad','DF','Calc_conc_ng/mL','HTRFratio']]\n",
    "samples3.columns = ['WELL_RC_96w','PLATE','DF','CONC_ng/mL','HTRF_RATIO']\n",
    "samples3['COLUMN']= samples3.WELL_RC_96w.str[-2:]\n",
    "samples3['COLUMN'] = samples3['COLUMN'].str.lstrip('0')\n",
    "samples3['ROW']= samples3.WELL_RC_96w.str[:1]\n",
    "samples3['CLONE'] = samples3['PLATE'].astype(str) + samples3['ROW'].astype(str) + samples3['COLUMN'].astype(str)\n",
    "samples4 = samples3.reindex()\n",
    "samples5 = samples4.set_index(['WELL_RC_96w','PLATE','COLUMN','ROW','CLONE'])\n",
    "reshaped_df = samples5.pivot(columns=['DF'])\n",
    "reshaped_df['FUSION ID'] = fusion_id\n",
    "reshaped_df = reshaped_df.reset_index()\n",
    "reshaped_df.columns = reshaped_df.columns.droplevel()\n",
    "reshaped_df.columns = ['SAMPLE','PLATE','COLUMN','ROW','CLONE','DF1_ng_per_mL','DF8_ng_per_mL','DF64_ng_per_mL','DF512_ng_per_mL','DF1_HTRFratio','DF8_HTRFratio','DF64_HTRFratio','DF512_HTRFratio','FUSION_ID']"
   ]
  },
  {
   "cell_type": "code",
   "execution_count": null,
   "metadata": {},
   "outputs": [],
   "source": [
    "#max selection of concentration to use\n",
    "reshaped_df['MAX_HTRF']= reshaped_df[['DF1_HTRFratio','DF8_HTRFratio','DF64_HTRFratio','DF512_HTRFratio']].max(axis=1)\n",
    "\n",
    "#distance from EC50 is calcualted\n",
    "reshaped_df['DF1_Distance']= (reshaped_df['DF1_HTRFratio']-ec50_signal).abs()\n",
    "reshaped_df['DF2_Distance']= (reshaped_df['DF2_HTRFratio']-ec50_signal).abs()\n",
    "reshaped_df['DF3_Distance']= (reshaped_df['DF3_HTRFratio']-ec50_signal).abs()\n",
    "reshaped_df['DF4_Distance']= (reshaped_df['DF4_HTRFratio']-ec50_signal).abs()\n",
    "df= reshaped_df.copy()\n",
    "\n",
    "#selects interpolated concentration based on distance to EC50\n",
    "df['Interpolated_conc']= np.where(\n",
    "    df.DF1_HTRFratio==df.MAX_HTRF,np.where(df.DF1_Distance<df.DF2_Distance,df.DF1_ng_per_mL,df.DF2_ng_per_mL),\n",
    "    np.where(df.DF2_HTRFratio==df.MAX_HTRF,np.where(df.DF2_Distance<df.DF3_Distance,df.DF2_ng_per_mL,\n",
    "    df.DF3_ng_per_mL),np.where(df.DF3_HTRFratio==df.MAX_HTRF,np.where\n",
    "    (df.DF3_Distance<df.DF4_Distance,df.DF3_ng_per_mL,df.DF4_ng_per_mL),\"Min\")))\n",
    "\n",
    "#calculate max concentration calculated\n",
    "df['DF1_ng_per_mL_int'] = pd.to_numeric(df['DF1_ng_per_mL'], errors='coerce').fillna('0').astype(float)\n",
    "df['DF2_ng_per_mL_int'] = pd.to_numeric(df['DF2_ng_per_mL'], errors='coerce').fillna('0').astype(float)\n",
    "df['DF3_ng_per_mL_int'] = pd.to_numeric(df['DF3_ng_per_mL'], errors='coerce').fillna('0').astype(float)\n",
    "df['DF4_ng_per_mL_int'] = pd.to_numeric(df['DF4_ng_per_mL'], errors='coerce').fillna('0').astype(float)\n",
    "columns = df[['DF1_ng_per_mL_int','DF2_ng_per_mL_int','DF3_ng_per_mL_int','DF4_ng_per_mL_int']]\n",
    "df['Max_Conc']= columns.max(axis=1)\n",
    "\n",
    "#if interpolated concentration is max, take max; other wise take iterpolated\n",
    "df['Interpolated_conc']= np.where(df.Interpolated_conc=='Max',df.Max_Conc,df.Interpolated_conc)\n",
    "\n",
    "#include all values used to make selection for user to make assessments\n",
    "final=df[['CLONE','FUSION_ID','Interpolated_conc','DF1_ng_per_mL','DF8_ng_per_mL', 'DF64_ng_per_mL', 'DF512_ng_per_mL','Max_Conc' ,'DF1_HTRFratio','DF8_HTRFratio', 'DF64_HTRFratio', 'DF512_HTRFratio','MAX_HTRF']]\n",
    "\n",
    "#populate control information\n",
    "final['EC50_control'] = ec50_signal\n",
    "final['LOD_blank'] = lod_conc\n",
    "final.to_excel('###output path###'+ experiment_id+'_output.xls')"
   ]
  }
 ],
 "metadata": {
  "kernelspec": {
   "display_name": "Python 3",
   "language": "python",
   "name": "python3"
  },
  "language_info": {
   "codemirror_mode": {
    "name": "ipython",
    "version": 3
   },
   "file_extension": ".py",
   "mimetype": "text/x-python",
   "name": "python",
   "nbconvert_exporter": "python",
   "pygments_lexer": "ipython3",
   "version": "3.8.8"
  }
 },
 "nbformat": 4,
 "nbformat_minor": 4
}
